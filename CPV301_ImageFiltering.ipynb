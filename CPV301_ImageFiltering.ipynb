{
  "nbformat": 4,
  "nbformat_minor": 0,
  "metadata": {
    "colab": {
      "provenance": []
    },
    "kernelspec": {
      "name": "python3",
      "display_name": "Python 3"
    },
    "language_info": {
      "name": "python"
    }
  },
  "cells": [
    {
      "cell_type": "markdown",
      "source": [
        "## Link http://tiny.cc/pxo6yz"
      ],
      "metadata": {
        "id": "BMFDeTmv_4YY"
      }
    },
    {
      "cell_type": "code",
      "execution_count": null,
      "metadata": {
        "id": "YZClNoK07LYD"
      },
      "outputs": [],
      "source": [
        "import numpy as np\n",
        "from scipy.signal import correlate2d\n",
        "from scipy import ndimage"
      ]
    },
    {
      "cell_type": "markdown",
      "source": [
        "## Implement the following functions step-by-step"
      ],
      "metadata": {
        "id": "NorXUaKS9MWj"
      }
    },
    {
      "cell_type": "code",
      "source": [
        "def correlation_func(input_f: np.array, kernel_h: np.array, padding: bool=False, padding_mode: str=None) -> np.array:\n",
        "  \"\"\" +0.1\n",
        "  input_f: 2D array, input array\n",
        "  kernel_h: 2D array, kernel array\n",
        "  padding: boolean, True/False, padding or not\n",
        "  padding_mode: zero/replicator/reflection\n",
        "\n",
        "  Output: output_g, 2D array\n",
        "  \"\"\"\n",
        "  # Get shape of input\n",
        "  N, M = input_f.shape\n",
        "  # Get shape of kernel\n",
        "  kn, km = kernel_h.shape\n",
        "  # Calculate r1, r2 (2*r1+1=kn, 2*r2+1=km)\n",
        "  r1, r2 = kn//2, km//2\n",
        "\n",
        "  if padding:\n",
        "    if padding_mode == 'zero':\n",
        "      mode='constant'\n",
        "    elif padding_mode == 'replicator':\n",
        "      mode='edge'\n",
        "    elif padding_mode == 'reflection':\n",
        "      mode='symmetric'\n",
        "    else:\n",
        "      raise ValueError(f'Unknown padding mode {padding_mode}')\n",
        "\n",
        "    # Do padding,\n",
        "    # https://numpy.org/doc/stable/reference/generated/numpy.pad.html\n",
        "    n_pad, m_pad = r1, r2\n",
        "    input_f_padded = np.pad(input_f, ((n_pad, n_pad), (m_pad, m_pad)), mode=mode)\n",
        "    # Shape of output_g\n",
        "    gN, gM = N, M\n",
        "  else:\n",
        "    # No padding => shape of output_g will be smaller than the input\n",
        "    gN, gM = N-kn+1, M-km+1\n",
        "    n_pad, m_pad= 0, 0\n",
        "    input_f_padded = input_f\n",
        "\n",
        "  # Initialize the output array with zeros\n",
        "  output_g = np.zeros((gN, gM), dtype=np.float64)\n",
        "\n",
        "  # Do Calculation, for loop\n",
        "  for u in range(gN):\n",
        "    for v in range(gM):\n",
        "      # (u, v) location in the output array\n",
        "      # (u_st, v_st) corresponding location in padded input array\n",
        "      u_st, v_st = u + r1, v + r2\n",
        "      # Get local data on input array\n",
        "      current_local = input_f_padded[u_st - r1: u_st + r1+1, v_st - r2: v_st +r2+1]\n",
        "      # Multiply, sum, assign to output_g\n",
        "      output_g[u, v] = np.sum(np.multiply(current_local, kernel_h))\n",
        "\n",
        "  # Return the output\n",
        "  return output_g\n",
        "\n",
        "def create_gaussian_kernel(kernel_h: int, kernel_w: int, s: float=0.01) -> np.array:\n",
        "  \"\"\"\n",
        "  Create Gaussian kernel for filtering (+0.05)\n",
        "\n",
        "  kernel_h: height of kernel\n",
        "  kernel_w: width of kernel\n",
        "  s: standard deviation of Gaussian distribution\n",
        "\n",
        "  Output: gauss_kernel of size (kernel_h, kernel_w)\n",
        "  \"\"\"\n",
        "  # Calculate r1, r2\n",
        "  r1, r2 = kernel_h//2, kernel_w//2\n",
        "\n",
        "  # Initialize the output with zero values\n",
        "  gauss_kernel = np.zeros((kernel_h, kernel_w), dtype=np.float64)\n",
        "\n",
        "  # Do calculation, for loop\n",
        "  for x in range(-r1, r1+1):\n",
        "    for y in range(-r2, r2+1):\n",
        "      gauss_kernel[x+r1, y+r2] = (1/(2*np.pi*(s**2))) * np.exp(-(x**2 + y**2)/(2*(s**2)))\n",
        "\n",
        "  # Do normalization so the sum of all values equal to 1, to avoid values in kernel too large/small\n",
        "  gauss_kernel = gauss_kernel/np.sum(gauss_kernel)\n",
        "\n",
        "  return gauss_kernel\n",
        "\n",
        "def create_mean_kernel(kernel_h: int, kernel_w: int) -> np.array:\n",
        "  \"\"\"\n",
        "  Create Mean kernel for filtering (+0.05)\n",
        "  kernel_h: height of kernel\n",
        "  kernel_w: width of kernel\n",
        "\n",
        "  Output: mean_kernel of size (kernel_h, kernel_w)\n",
        "  \"\"\"\n",
        "  # Do something\n",
        "  mean_kernel = (1/(kernel_h*kernel_w)) * np.ones((kernel_h, kernel_w), dtype=np.float64)\n",
        "  return mean_kernel\n",
        "\n",
        "def median_filtering(input_f: np.array, kernel_h: int, kernel_w: int, padding: bool=False, padding_mode: str=None) -> np.array:\n",
        "  \"\"\"\n",
        "  Do Median filtering (+0.1)\n",
        "\n",
        "  input_f: 2D array, input array\n",
        "  kernel_h, kernel_w: int values, height and width of kernel\n",
        "  padding: boolean, True/False, padding or not\n",
        "  padding_mode: zero/replicator/reflection\n",
        "\n",
        "  Output: output_g, 2D array\n",
        "  \"\"\"\n",
        "\n",
        "  # Get shape of input\n",
        "  N, M = input_f.shape\n",
        "  # Get shape of kernel\n",
        "  kn, km = kernel_h, kernel_w\n",
        "  # Calculate r1, r2 (2*r1+1=kn, 2*r2+1=km)\n",
        "  r1, r2 = kn//2, km//2\n",
        "\n",
        "  if padding:\n",
        "    if padding_mode == 'zero':\n",
        "      mode='constant'\n",
        "    elif padding_mode == 'replicator':\n",
        "      mode='edge'\n",
        "    elif padding_mode == 'reflection':\n",
        "      mode='symmetric'\n",
        "    else:\n",
        "      raise ValueError(f'Unknown padding mode {padding_mode}')\n",
        "\n",
        "    # Do padding,\n",
        "    # https://numpy.org/doc/stable/reference/generated/numpy.pad.html\n",
        "    n_pad, m_pad = r1, r2\n",
        "    input_f_padded = np.pad(input_f, ((n_pad, n_pad), (m_pad, m_pad)), mode=mode)\n",
        "    # Shape of output_g\n",
        "    gN, gM = N, M\n",
        "  else:\n",
        "    # No padding => shape of output_g will be smaller than the input\n",
        "    gN, gM = N-kn+1, M-km+1\n",
        "    n_pad, m_pad= 0, 0\n",
        "    input_f_padded = input_f\n",
        "\n",
        "  # Initialize the output array with zeros\n",
        "  output_g = np.zeros((gN, gM), dtype=np.float64)\n",
        "\n",
        "  # Do Calculation, for loop\n",
        "  for u in range(gN):\n",
        "    for v in range(gM):\n",
        "      # (u, v) location in the output array\n",
        "      # (u_st, v_st) corresponding location in padded input array\n",
        "      u_st, v_st = u + r1, v + r2\n",
        "      # Get local data on input array\n",
        "      current_local = input_f_padded[u_st - r1: u_st + r1+1, v_st - r2: v_st +r2+1]\n",
        "      # Get median and assign\n",
        "      output_g[u, v] = np.median(current_local)\n",
        "\n",
        "  # Return the output\n",
        "  return output_g"
      ],
      "metadata": {
        "id": "mA7z9q6Y7O00"
      },
      "execution_count": null,
      "outputs": []
    },
    {
      "cell_type": "code",
      "source": [
        "ksize_w, ksize_h = 3, 3\n",
        "gauss_s = 0.5\n",
        "\n",
        "mean_kernel = create_mean_kernel(ksize_h, ksize_w)\n",
        "gauss_kernel = create_gaussian_kernel(ksize_h, ksize_w, gauss_s)\n",
        "\n",
        "print('Mean kernel\\n', mean_kernel)\n",
        "print('Gauss kernel\\n', gauss_kernel)"
      ],
      "metadata": {
        "id": "8C60nTkg72Ll",
        "colab": {
          "base_uri": "https://localhost:8080/"
        },
        "outputId": "96edba12-4648-4b1c-eba7-c5db97b4fb13"
      },
      "execution_count": null,
      "outputs": [
        {
          "output_type": "stream",
          "name": "stdout",
          "text": [
            "Mean kernel\n",
            " [[0.11111111 0.11111111 0.11111111]\n",
            " [0.11111111 0.11111111 0.11111111]\n",
            " [0.11111111 0.11111111 0.11111111]]\n",
            "Gauss kernel\n",
            " [[0.01134374 0.08381951 0.01134374]\n",
            " [0.08381951 0.61934703 0.08381951]\n",
            " [0.01134374 0.08381951 0.01134374]]\n"
          ]
        }
      ]
    },
    {
      "cell_type": "code",
      "source": [
        "input_arr = np.random.randn(32, 48)\n",
        "kernel_arr = np.random.randn(3,5)\n",
        "\n",
        "corr_zp = correlation_func(input_arr, kernel_arr, padding=False)\n",
        "scipy_zp = correlate2d(input_arr, kernel_arr, mode='valid')\n",
        "print('Checking zero padding corr:', np.sum(np.abs(corr_zp-scipy_zp)) < 1e-8)\n",
        "\n",
        "corr_refp = correlation_func(input_arr, kernel_arr, padding=True, padding_mode='reflection')\n",
        "scipy_refp = correlate2d(input_arr, kernel_arr, mode='same', boundary='symm')\n",
        "print('Checking zero padding corr: ', np.sum(np.abs(corr_refp-scipy_refp)) < 1e-8)"
      ],
      "metadata": {
        "id": "sTLyUVt_-uoC",
        "colab": {
          "base_uri": "https://localhost:8080/"
        },
        "outputId": "f7e85ec6-fd2a-4a50-93ce-40e17a3c7ec1"
      },
      "execution_count": null,
      "outputs": [
        {
          "output_type": "stream",
          "name": "stdout",
          "text": [
            "Checking zero padding corr: True\n",
            "Checking zero padding corr:  True\n"
          ]
        }
      ]
    },
    {
      "cell_type": "code",
      "source": [
        "kernel_h, kernel_w = 5, 7\n",
        "median_repl = median_filtering(input_arr, kernel_h, kernel_w, padding=True, padding_mode='replicator')\n",
        "median_scirepl = ndimage.median_filter(input_arr, size=(kernel_h, kernel_w), mode='nearest')\n",
        "\n",
        "print('Checking replicator padding median:', np.sum(np.abs(median_repl-median_scirepl)) < 1e-8)\n",
        "\n",
        "median_refl = median_filtering(input_arr, kernel_h, kernel_w, padding=True, padding_mode='reflection')\n",
        "median_scirefl = ndimage.median_filter(input_arr, size=(kernel_h, kernel_w), mode='reflect')\n",
        "\n",
        "print('Checking reflection padding median:', np.sum(np.abs(median_refl-median_scirefl)) < 1e-8)\n",
        "\n",
        "median_zp = median_filtering(input_arr, kernel_h, kernel_w, padding=True, padding_mode='zero')\n",
        "median_scizp = ndimage.median_filter(input_arr, size=(kernel_h, kernel_w), mode='constant')\n",
        "\n",
        "print('Checking zero padding median:', np.sum(np.abs(median_zp-median_scizp)) < 1e-8)"
      ],
      "metadata": {
        "colab": {
          "base_uri": "https://localhost:8080/"
        },
        "id": "Z4TW9vHaPZk-",
        "outputId": "f68bc358-0fae-4e9b-c0de-48568ae96f26"
      },
      "execution_count": null,
      "outputs": [
        {
          "output_type": "stream",
          "name": "stdout",
          "text": [
            "Checking replicator padding median: True\n",
            "Checking reflection padding median: True\n",
            "Checking zero padding median: True\n"
          ]
        }
      ]
    },
    {
      "cell_type": "code",
      "source": [],
      "metadata": {
        "id": "MRoq_ajmP3nP"
      },
      "execution_count": null,
      "outputs": []
    }
  ]
}